{
 "cells": [
  {
   "cell_type": "code",
   "execution_count": 1,
   "id": "4f1bd568",
   "metadata": {},
   "outputs": [],
   "source": [
    "import yfinance as yf\n",
    "from yahoofinancials import YahooFinancials\n",
    "import pandas as pd"
   ]
  },
  {
   "cell_type": "code",
   "execution_count": 2,
   "id": "3c957d76",
   "metadata": {},
   "outputs": [
    {
     "data": {
      "text/html": [
       "<div>\n",
       "<style scoped>\n",
       "    .dataframe tbody tr th:only-of-type {\n",
       "        vertical-align: middle;\n",
       "    }\n",
       "\n",
       "    .dataframe tbody tr th {\n",
       "        vertical-align: top;\n",
       "    }\n",
       "\n",
       "    .dataframe thead th {\n",
       "        text-align: right;\n",
       "    }\n",
       "</style>\n",
       "<table border=\"1\" class=\"dataframe\">\n",
       "  <thead>\n",
       "    <tr style=\"text-align: right;\">\n",
       "      <th></th>\n",
       "      <th>date</th>\n",
       "      <th>high</th>\n",
       "      <th>low</th>\n",
       "      <th>open</th>\n",
       "      <th>close</th>\n",
       "      <th>volume</th>\n",
       "      <th>adjclose</th>\n",
       "      <th>formatted_date</th>\n",
       "    </tr>\n",
       "  </thead>\n",
       "  <tbody>\n",
       "    <tr>\n",
       "      <th>0</th>\n",
       "      <td>1483228800</td>\n",
       "      <td>1003.080017</td>\n",
       "      <td>958.698975</td>\n",
       "      <td>963.658020</td>\n",
       "      <td>998.325012</td>\n",
       "      <td>147775008</td>\n",
       "      <td>998.325012</td>\n",
       "      <td>2017-01-01</td>\n",
       "    </tr>\n",
       "    <tr>\n",
       "      <th>1</th>\n",
       "      <td>1483315200</td>\n",
       "      <td>1031.390015</td>\n",
       "      <td>996.702026</td>\n",
       "      <td>998.617004</td>\n",
       "      <td>1021.750000</td>\n",
       "      <td>222184992</td>\n",
       "      <td>1021.750000</td>\n",
       "      <td>2017-01-02</td>\n",
       "    </tr>\n",
       "    <tr>\n",
       "      <th>2</th>\n",
       "      <td>1483401600</td>\n",
       "      <td>1044.079956</td>\n",
       "      <td>1021.599976</td>\n",
       "      <td>1021.599976</td>\n",
       "      <td>1043.839966</td>\n",
       "      <td>185168000</td>\n",
       "      <td>1043.839966</td>\n",
       "      <td>2017-01-03</td>\n",
       "    </tr>\n",
       "    <tr>\n",
       "      <th>3</th>\n",
       "      <td>1483488000</td>\n",
       "      <td>1159.420044</td>\n",
       "      <td>1044.400024</td>\n",
       "      <td>1044.400024</td>\n",
       "      <td>1154.729980</td>\n",
       "      <td>344945984</td>\n",
       "      <td>1154.729980</td>\n",
       "      <td>2017-01-04</td>\n",
       "    </tr>\n",
       "    <tr>\n",
       "      <th>4</th>\n",
       "      <td>1483574400</td>\n",
       "      <td>1191.099976</td>\n",
       "      <td>910.416992</td>\n",
       "      <td>1156.729980</td>\n",
       "      <td>1013.380005</td>\n",
       "      <td>510199008</td>\n",
       "      <td>1013.380005</td>\n",
       "      <td>2017-01-05</td>\n",
       "    </tr>\n",
       "  </tbody>\n",
       "</table>\n",
       "</div>"
      ],
      "text/plain": [
       "         date         high          low         open        close     volume  \\\n",
       "0  1483228800  1003.080017   958.698975   963.658020   998.325012  147775008   \n",
       "1  1483315200  1031.390015   996.702026   998.617004  1021.750000  222184992   \n",
       "2  1483401600  1044.079956  1021.599976  1021.599976  1043.839966  185168000   \n",
       "3  1483488000  1159.420044  1044.400024  1044.400024  1154.729980  344945984   \n",
       "4  1483574400  1191.099976   910.416992  1156.729980  1013.380005  510199008   \n",
       "\n",
       "      adjclose formatted_date  \n",
       "0   998.325012     2017-01-01  \n",
       "1  1021.750000     2017-01-02  \n",
       "2  1043.839966     2017-01-03  \n",
       "3  1154.729980     2017-01-04  \n",
       "4  1013.380005     2017-01-05  "
      ]
     },
     "execution_count": 2,
     "metadata": {},
     "output_type": "execute_result"
    }
   ],
   "source": [
    "yahoo_financials = YahooFinancials('BTC-USD')\n",
    "data_btc = yahoo_financials.get_historical_price_data('2017-01-01', '2022-05-01', 'daily')\n",
    "df = pd.DataFrame(data_btc['BTC-USD']['prices'])\n",
    "df.head()"
   ]
  },
  {
   "cell_type": "code",
   "execution_count": 3,
   "id": "1f07e694",
   "metadata": {},
   "outputs": [
    {
     "data": {
      "text/plain": [
       "(1947, 1)"
      ]
     },
     "execution_count": 3,
     "metadata": {},
     "output_type": "execute_result"
    }
   ],
   "source": [
    "X = df.drop(df.columns.difference(['formatted_date']), axis='columns')\n",
    "X['formatted_date'] = pd.to_datetime(df['formatted_date']).values.astype(float)\n",
    "X.shape"
   ]
  },
  {
   "cell_type": "code",
   "execution_count": 4,
   "id": "d0c2c640",
   "metadata": {},
   "outputs": [
    {
     "data": {
      "text/plain": [
       "(1947,)"
      ]
     },
     "execution_count": 4,
     "metadata": {},
     "output_type": "execute_result"
    }
   ],
   "source": [
    "Y = df['adjclose']\n",
    "Y.shape"
   ]
  },
  {
   "cell_type": "code",
   "execution_count": 5,
   "id": "347566c7",
   "metadata": {},
   "outputs": [],
   "source": [
    "from sklearn.linear_model import LinearRegression\n",
    "from lightgbm import LGBMRegressor\n",
    "from xgboost.sklearn import XGBRegressor\n",
    "from catboost import CatBoostRegressor\n",
    "from sklearn.linear_model import SGDRegressor\n",
    "from sklearn.kernel_ridge import KernelRidge\n",
    "from sklearn.linear_model import ElasticNet\n",
    "from sklearn.linear_model import BayesianRidge\n",
    "from sklearn.ensemble import GradientBoostingRegressor\n",
    "from sklearn.svm import SVR\n",
    "\n",
    "from sklearn.model_selection import KFold\n",
    "from sklearn.model_selection import cross_val_score\n",
    "from sklearn.model_selection import train_test_split\n",
    "\n",
    "from warnings import simplefilter\n",
    "# ignore all warnings\n",
    "simplefilter(action='ignore')"
   ]
  },
  {
   "cell_type": "code",
   "execution_count": 6,
   "id": "151cd361",
   "metadata": {},
   "outputs": [],
   "source": [
    "X_train, X_test, y_train, y_test = train_test_split(X, Y, test_size = 0.2)"
   ]
  },
  {
   "cell_type": "code",
   "execution_count": 7,
   "id": "bf44ec7b",
   "metadata": {},
   "outputs": [],
   "source": [
    "models = []\n",
    "models.append(('LR', LinearRegression()))\n",
    "models.append(('LGBMR', LGBMRegressor()))\n",
    "models.append(('XGBR', XGBRegressor()))\n",
    "models.append(('CBR', CatBoostRegressor(logging_level='Silent')))\n",
    "models.append(('KR', KernelRidge()))\n",
    "models.append(('EN', ElasticNet()))\n",
    "models.append(('BR', BayesianRidge()))\n",
    "models.append(('GBR', GradientBoostingRegressor()))\n",
    "models.append(('SVR', SVR()))"
   ]
  },
  {
   "cell_type": "code",
   "execution_count": 8,
   "id": "137ecd58",
   "metadata": {},
   "outputs": [
    {
     "name": "stdout",
     "output_type": "stream",
     "text": [
      "LR: train = 0.626 (0.027) / test = 0.624\n",
      "LGBMR: train = 0.995 (0.001) / test = 0.994\n",
      "XGBR: train = 0.997 (0.001) / test = 0.997\n",
      "CBR: train = 0.995 (0.002) / test = 0.995\n",
      "KR: train = 0.025 (0.020) / test = 0.042\n",
      "EN: train = 0.626 (0.027) / test = 0.624\n",
      "BR: train = 0.626 (0.027) / test = 0.624\n",
      "GBR: train = 0.995 (0.001) / test = 0.995\n",
      "SVR: train = -0.182 (0.024) / test = -0.199\n"
     ]
    }
   ],
   "source": [
    "names = []\n",
    "results = []\n",
    "predictions = []\n",
    "scores = []\n",
    "msg_row = []\n",
    "for name, model in models:\n",
    "    kfold = KFold(n_splits=10)\n",
    "    cv_results = cross_val_score(model, X_train, y_train, cv=kfold, scoring='r2')\n",
    "    names.append(name)\n",
    "    results.append(cv_results)\n",
    "    m_fit = model.fit(X_train, y_train)\n",
    "    m_predict = model.predict(X_test)\n",
    "    predictions.append(m_predict)\n",
    "    m_score = model.score(X_test, y_test)\n",
    "    scores.append(m_score)\n",
    "    msg = \"%s: train = %.3f (%.3f) / test = %.3f\" % (name, cv_results.mean(), cv_results.std(), m_score)\n",
    "    msg_row.append(msg)\n",
    "    print(msg)"
   ]
  },
  {
   "cell_type": "code",
   "execution_count": 10,
   "id": "f4be6652",
   "metadata": {},
   "outputs": [
    {
     "data": {
      "image/png": "[encoded data removed]",
      "text/plain": [
       "<Figure size 432x288 with 1 Axes>"
      ]
     },
     "metadata": {
      "needs_background": "light"
     },
     "output_type": "display_data"
    }
   ],
   "source": [
    "from matplotlib import pyplot\n",
    "\n",
    "fig = pyplot.figure()\n",
    "fig.suptitle('Comparison of algorithm execution results')\n",
    "ax = fig.add_subplot(111)\n",
    "red_square = dict(markerfacecolor='r', marker='s')\n",
    "pyplot.boxplot(results, flierprops=red_square)\n",
    "ax.set_xticklabels(names, rotation=45)\n",
    "pyplot.show()"
   ]
  }
 ],
 "metadata": {
  "kernelspec": {
   "display_name": "Python 3 (ipykernel)",
   "language": "python",
   "name": "python3"
  },
  "language_info": {
   "codemirror_mode": {
    "name": "ipython",
    "version": 3
   },
   "file_extension": ".py",
   "mimetype": "text/x-python",
   "name": "python",
   "nbconvert_exporter": "python",
   "pygments_lexer": "ipython3",
   "version": "3.9.7"
  }
 },
 "nbformat": 4,
 "nbformat_minor": 5
}
